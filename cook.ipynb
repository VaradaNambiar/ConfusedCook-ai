{
 "cells": [
  {
   "cell_type": "code",
   "execution_count": 2,
   "id": "b127d3de",
   "metadata": {},
   "outputs": [
    {
     "data": {
      "text/plain": [
       "True"
      ]
     },
     "execution_count": 2,
     "metadata": {},
     "output_type": "execute_result"
    }
   ],
   "source": [
    "from langchain_groq import ChatGroq\n",
    "from langchain_core.prompts import ChatPromptTemplate\n",
    "from dotenv import load_dotenv\n",
    "\n",
    "load_dotenv()\n"
   ]
  },
  {
   "cell_type": "code",
   "execution_count": 9,
   "id": "0e0cc81e",
   "metadata": {},
   "outputs": [
    {
     "name": "stdout",
     "output_type": "stream",
     "text": [
      "AI Chef is ready! What do you have today in your pantry?\n",
      "Contents: chicken, corn, water\n",
      "you can make -> ##  Simple Chicken and Corn Soup\n",
      "\n",
      "This recipe is a flavourful and comforting soup that's easy to make with just a few ingredients.\n",
      "\n",
      "**Ingredients:**\n",
      "\n",
      "* 1 pound boneless, skinless chicken breasts, cut into bite-sized pieces\n",
      "* 1 (15 ounce) can corn, drained\n",
      "* 4 cups water\n",
      "* 1 teaspoon salt\n",
      "* 1/2 teaspoon black pepper\n",
      "* 1/4 teaspoon dried thyme (optional)\n",
      "\n",
      "**Instructions:**\n",
      "\n",
      "1. **Combine ingredients:** In a large pot, combine the chicken, corn, water, salt, pepper, and thyme (if using).\n",
      "2. **Bring to a boil:** Over medium-high heat, bring the mixture to a boil.\n",
      "3. **Simmer until chicken is cooked:** Reduce heat to low, cover, and simmer for 15-20 minutes, or until the chicken is cooked through.\n",
      "4. **Shred chicken:** Remove the chicken from the pot and shred it using two forks.\n",
      "5. **Return chicken to soup:** Return the shredded chicken to the pot and stir to combine.\n",
      "6. **Serve:** Ladle the soup into bowls and enjoy!\n",
      "\n",
      "**Tips:**\n",
      "\n",
      "* For a thicker soup, mash some of the corn against the side of the pot while simmering.\n",
      "* Add other vegetables to the soup, such as diced carrots, celery, or onions.\n",
      "* Season the soup to taste with additional salt, pepper, or herbs.\n",
      "* Serve the soup with a dollop of sour cream or a sprinkle of fresh parsley for garnish.\n",
      "\n",
      "Enjoy your delicious and easy chicken and corn soup!\n",
      "\n"
     ]
    }
   ],
   "source": [
    "llm = ChatGroq(model=\"gemma2-9b-it\")\n",
    "\n",
    "message= \"You are a chef. Suggest a recepie made out of {contents} and explain how to make it.\"\n",
    "\n",
    "prompt_template = ChatPromptTemplate.from_messages({message})\n",
    "\n",
    "print(\"AI Chef is ready! What do you have today in your pantry?\")\n",
    "ingredients = input(\"Contents: \")\n",
    "prompt = prompt_template.format(contents=ingredients)\n",
    "\n",
    "result = llm.invoke(prompt)\n",
    "\n",
    "print(\"you can make ->\", result.content)"
   ]
  }
 ],
 "metadata": {
  "kernelspec": {
   "display_name": "langchain_groq",
   "language": "python",
   "name": "conversation_agent"
  },
  "language_info": {
   "codemirror_mode": {
    "name": "ipython",
    "version": 3
   },
   "file_extension": ".py",
   "mimetype": "text/x-python",
   "name": "python",
   "nbconvert_exporter": "python",
   "pygments_lexer": "ipython3",
   "version": "3.10.4"
  }
 },
 "nbformat": 4,
 "nbformat_minor": 5
}
